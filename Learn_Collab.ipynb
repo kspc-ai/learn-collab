{
  "nbformat": 4,
  "nbformat_minor": 0,
  "metadata": {
    "colab": {
      "provenance": [],
      "authorship_tag": "ABX9TyP+b9vWL4QGUMTWG58+KsMw",
      "include_colab_link": true
    },
    "kernelspec": {
      "name": "python3",
      "display_name": "Python 3"
    },
    "language_info": {
      "name": "python"
    }
  },
  "cells": [
    {
      "cell_type": "markdown",
      "metadata": {
        "id": "view-in-github",
        "colab_type": "text"
      },
      "source": [
        "<a href=\"https://colab.research.google.com/github/kspc-ai/learn-collab/blob/main/Learn_Collab.ipynb\" target=\"_parent\"><img src=\"https://colab.research.google.com/assets/colab-badge.svg\" alt=\"Open In Colab\"/></a>"
      ]
    },
    {
      "cell_type": "markdown",
      "metadata": {
        "id": "e531eba8"
      },
      "source": [
        "# Google Gemini API — Beginner Google Colab Project\n",
        "\n",
        "**Goal:** A step-by-step Colab notebook that shows how to use **Gemini API keys** to call Google’s Gemini models (text generation) safely and simply. This is written for beginners and includes detailed explanations and commented code you can paste directly into a new Colab cell.\n",
        "\n",
        "---\n",
        "\n",
        "## Quick overview\n",
        "\n",
        "What you'll learn:\n",
        "\n",
        "1. Where to get a Gemini API key (Google AI Studio).\n",
        "2. How to install the official Python client in Colab.\n",
        "3. Two safe ways to provide the API key in Colab (hidden input / environment variable).\n",
        "4. Make a simple text-generation call using the `google-genai` client.\n",
        "5. Make the equivalent REST call with `requests` using the `x-goog-api-key` header.\n",
        "6. Security and troubleshooting tips.\n",
        "\n",
        "---\n",
        "\n",
        "## Prerequisites\n",
        "\n",
        "* A Google account with access to **Google AI Studio** (where you can create a Gemini API key).\n",
        "* Basic comfort running cells in Google Colab.\n",
        "* This notebook is intentionally simple and uses only `pip install` inside Colab (no Cloud SDK required).\n",
        "\n",
        "---\n",
        "\n",
        "## 0) Open a new Google Colab\n",
        "\n",
        "1. Go to [https://colab.research.google.com](https://colab.research.google.com)\n",
        "2. Create a new Python 3 notebook.\n",
        "\n",
        "Copy each code block below into its own Colab cell and run it in order.\n",
        "\n",
        "---\n",
        "\n",
        "## 1) Get a Gemini API key (short summary)\n",
        "\n",
        "1. Open **Google AI Studio** (the Gemini pages) and sign in with your Google account.\n",
        "2. Find **API Keys** (or \"Get API key\") in the left sidebar and create a key for a project.\n",
        "3. Copy the key; store it somewhere safe (treat it like a password).\n",
        "\n",
        "> **Do not paste your key into public GitHub repositories or share it.**\n",
        "\n",
        "---\n",
        "\n",
        "## 2) Install the official Python client in Colab"
      ]
    },
    {
      "cell_type": "code",
      "metadata": {
        "id": "3b97142d"
      },
      "source": [
        "# Colab cell: install the official Google GenAI package\n",
        "!pip install -q -U google-genai\n",
        "\n",
        "# (Optional) we'll import standard libs in the next cell"
      ],
      "execution_count": 15,
      "outputs": []
    },
    {
      "cell_type": "code",
      "metadata": {
        "colab": {
          "base_uri": "https://localhost:8080/"
        },
        "id": "0334aee5",
        "outputId": "5805202b-7df4-4bee-ea68-ac18b6b6cdf8"
      },
      "source": [
        "# Colab cell: enter API key without echoing it in the notebook\n",
        "from getpass import getpass\n",
        "import os\n",
        "\n",
        "# Prompt (hidden): paste your Gemini API key here when asked\n",
        "api_key = getpass(\"Enter your Gemini API key (input will be hidden): \")\n",
        "\n",
        "# Put the key into environment so client libraries that auto-discover env vars can use it\n",
        "os.environ['GEMINI_API_KEY'] = api_key\n",
        "\n",
        "# You can also set GOOGLE_API_KEY if you prefer; GEMINI_API_KEY is recommended.\n",
        "# NOTE: This stores key only in the current Colab session memory; it is not saved to the notebook file."
      ],
      "execution_count": 16,
      "outputs": [
        {
          "name": "stdout",
          "output_type": "stream",
          "text": [
            "Enter your Gemini API key (input will be hidden): ··········\n"
          ]
        }
      ]
    },
    {
      "cell_type": "code",
      "metadata": {
        "colab": {
          "base_uri": "https://localhost:8080/"
        },
        "id": "9feda958",
        "outputId": "1d2afe62-7bd1-4f03-bc8e-0e66bbfcea70"
      },
      "source": [
        "# Later we'll show using the explicit API key when constructing the client.\n",
        "# This avoids relying on environment variable auto-discovery.\n",
        "\n",
        "from getpass import getpass\n",
        "api_key = getpass(\"Enter your Gemini API key (input will be hidden): \")\n",
        "\n",
        "# We'll use this `api_key` directly when creating the client."
      ],
      "execution_count": 17,
      "outputs": [
        {
          "name": "stdout",
          "output_type": "stream",
          "text": [
            "Enter your Gemini API key (input will be hidden): ··········\n"
          ]
        }
      ]
    },
    {
      "cell_type": "code",
      "metadata": {
        "colab": {
          "base_uri": "https://localhost:8080/"
        },
        "id": "a988ef90",
        "outputId": "96afcb9c-c956-4a0e-d561-6faf11b6cb11"
      },
      "source": [
        "# Colab cell: minimal text generation using the python client\n",
        "from google import genai\n",
        "import os\n",
        "\n",
        "# Option 1: auto-discover API key from environment:\n",
        "# os.environ['GEMINI_API_KEY'] should already be set by the earlier cell if you used getpass.\n",
        "client = genai.Client()  # client will read GEMINI_API_KEY or GOOGLE_API_KEY if available\n",
        "\n",
        "# Option 2 (explicit):\n",
        "# client = genai.Client(api_key=api_key)\n",
        "\n",
        "# Choose a model (examples include 'gemini-2.5-flash', 'gemini-1.5-mini'; pick what's available to you)\n",
        "MODEL = \"gemini-2.5-flash\"\n",
        "\n",
        "try:\n",
        "    response = client.models.generate_content(\n",
        "        model=MODEL,\n",
        "        contents=\"Explain 'overfitting' in machine learning in 2-3 sentences.\"\n",
        "    )\n",
        "\n",
        "    # The 'response' object offers a convenient .text or .content field depending on the SDK version.\n",
        "    print(\"--- Generated text ---\")\n",
        "    print(response.text)\n",
        "\n",
        "except Exception as e:\n",
        "    print(\"An error occurred while calling the Gemini API:\", e)\n",
        "    print(\"Common causes: invalid API key, project not imported in AI Studio, or network issues.\")"
      ],
      "execution_count": 18,
      "outputs": [
        {
          "output_type": "stream",
          "name": "stdout",
          "text": [
            "--- Generated text ---\n",
            "Overfitting occurs when a machine learning model learns the training data too well, including its noise and specific details, rather than the underlying general patterns. This leads to excellent performance on the training set but poor generalization and low accuracy when encountering new, unseen data.\n"
          ]
        }
      ]
    },
    {
      "cell_type": "code",
      "metadata": {
        "colab": {
          "base_uri": "https://localhost:8080/"
        },
        "id": "2cc78c27",
        "outputId": "5ca068b4-6c32-436a-d429-c31521fe38d6"
      },
      "source": [
        "# Colab cell: make a direct REST call to the Gemini endpoint with the API key in the header\n",
        "import requests\n",
        "import os\n",
        "\n",
        "api_key = os.environ.get('GEMINI_API_KEY')\n",
        "endpoint = \"https://generativelanguage.googleapis.com/v1beta/models/gemini-2.5-flash:generateContent\"\n",
        "\n",
        "payload = {\n",
        "    \"contents\": [\n",
        "        {\n",
        "            \"parts\": [{\"text\": \"Explain the benefits of unit testing in 3 bullet points.\"}]\n",
        "        }\n",
        "    ]\n",
        "}\n",
        "\n",
        "headers = {\n",
        "    \"Content-Type\": \"application/json\",\n",
        "    \"x-goog-api-key\": api_key  # REST header required for API key authentication\n",
        "}\n",
        "\n",
        "resp = requests.post(endpoint, headers=headers, json=payload)\n",
        "\n",
        "if resp.status_code == 200:\n",
        "    print(\"REST response JSON:\\n\", resp.json())\n",
        "else:\n",
        "    print(\"Request failed (status):\", resp.status_code)\n",
        "    print(resp.text)"
      ],
      "execution_count": 19,
      "outputs": [
        {
          "output_type": "stream",
          "name": "stdout",
          "text": [
            "REST response JSON:\n",
            " {'candidates': [{'content': {'parts': [{'text': 'Here are three key benefits of unit testing:\\n\\n*   **Catches Bugs Early:** Unit tests identify defects in small, isolated pieces of code at the earliest possible stage of development, making them significantly cheaper and easier to fix than finding them later in integration or production.\\n*   **Improves Code Quality and Design:** Writing unit tests encourages developers to write more modular, testable, and maintainable code. It acts as a form of living documentation, clearly defining what each unit of code is supposed to do.\\n*   **Enables Safe Refactoring and Future Changes:** A comprehensive suite of unit tests provides a safety net. Developers can confidently refactor existing code, add new features, or change implementations, knowing that if they inadvertently break existing functionality, the tests will immediately alert them.'}], 'role': 'model'}, 'finishReason': 'STOP', 'index': 0}], 'usageMetadata': {'promptTokenCount': 12, 'candidatesTokenCount': 161, 'totalTokenCount': 399, 'promptTokensDetails': [{'modality': 'TEXT', 'tokenCount': 12}], 'thoughtsTokenCount': 226}, 'modelVersion': 'gemini-2.5-flash', 'responseId': 'suzUaLXbCMD1xs0PupinsAI'}\n"
          ]
        }
      ]
    },
    {
      "cell_type": "code",
      "metadata": {
        "colab": {
          "base_uri": "https://localhost:8080/"
        },
        "id": "c97740d5",
        "outputId": "1f11d7e7-e2b2-4f16-e51d-01d4308c158b"
      },
      "source": [
        "# Colab cell: small helper to wrap repeated calls and print results cleanly\n",
        "from google import genai\n",
        "import os\n",
        "\n",
        "client = genai.Client()  # auto-discover env var or use explicit key\n",
        "\n",
        "def generate_short_text(prompt, model=\"gemini-2.5-flash\"):\n",
        "    \"\"\"Return the model's text for a short prompt (wraps error handling).\"\"\"\n",
        "    try:\n",
        "        resp = client.models.generate_content(model=model, contents=prompt)\n",
        "        return resp.text\n",
        "    except Exception as e:\n",
        "        return f\"Error: {e}\"\n",
        "\n",
        "# Example usage\n",
        "print(generate_short_text(\"What's a simple explanation of cosine similarity?\"))"
      ],
      "execution_count": 20,
      "outputs": [
        {
          "output_type": "stream",
          "name": "stdout",
          "text": [
            "Imagine you have two documents (like two articles, two customer reviews, or even just two sentences). You want to know how similar they are in terms of *what they are talking about*.\n",
            "\n",
            "Cosine similarity is a way to measure this similarity, and here's the simple breakdown:\n",
            "\n",
            "1.  **Turn things into \"vectors\":** First, you take your documents and convert them into numerical representations called \"vectors.\" Think of a vector as an arrow in a multi-dimensional space. Each dimension might represent a word, and the \"length\" along that dimension tells you how often that word appears in the document.\n",
            "\n",
            "    *   **Example:**\n",
            "        *   Document A: \"The quick brown fox.\" -> Vector A: [quick:1, brown:1, fox:1, the:1]\n",
            "        *   Document B: \"The lazy dog.\" -> Vector B: [lazy:1, dog:1, the:1]\n",
            "        *   Document C: \"The quick fox jumps over the quick brown fox.\" -> Vector C: [quick:2, brown:1, fox:2, jumps:1, over:1, the:2]\n",
            "\n",
            "2.  **Focus on the \"direction,\" not the \"length\":**\n",
            "    *   Cosine similarity cares about the *angle* between these vectors (arrows), not their length.\n",
            "    *   **Why?** A very long document (many words) and a short document (few words) can still be about the exact same topic. If you just measured how \"far apart\" their vector endpoints were (like a straight-line distance), the longer document would always seem \"further away\" just because it's bigger.\n",
            "    *   But if they're talking about the same thing, their arrows will point in roughly the same *direction* in the multi-dimensional space.\n",
            "\n",
            "3.  **The Angle Tells the Story:**\n",
            "    *   **Angle of 0 degrees:** If the two arrows point in exactly the same direction, the angle is 0 degrees. This means they are **perfectly similar** in content. (Cosine of 0 degrees = 1)\n",
            "    *   **Angle of 90 degrees:** If the arrows are perpendicular to each other, they are **completely dissimilar** (or unrelated topics). (Cosine of 90 degrees = 0)\n",
            "    *   **Angle of 180 degrees:** If they point in opposite directions, they are **perfectly dissimilar** (or talk about completely opposing ideas). (Cosine of 180 degrees = -1, though for text, you rarely see negative similarities because word counts are positive).\n",
            "\n",
            "4.  **The \"Cosine\" Value:**\n",
            "    *   The cosine similarity value ranges from **-1 to 1**.\n",
            "    *   **1 means identical topics/directions.**\n",
            "    *   **0 means no similarity.**\n",
            "    *   **-1 means completely opposite.**\n",
            "    *   For most text analysis, you'll typically see values between 0 and 1. A higher number means higher similarity.\n",
            "\n",
            "**In simple terms:**\n",
            "\n",
            "Cosine similarity tells you how much two things (like documents, user preferences, etc.) are \"pointing in the same direction\" in terms of their content or characteristics, regardless of how \"big\" they are. It's a great way to find items that are conceptually similar even if one is much longer or has more features than the other.\n"
          ]
        }
      ]
    }
  ]
}